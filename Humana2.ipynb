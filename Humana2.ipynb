{
  "nbformat": 4,
  "nbformat_minor": 0,
  "metadata": {
    "colab": {
      "name": "Humana2.ipynb",
      "provenance": [],
      "machine_shape": "hm"
    },
    "kernelspec": {
      "name": "python3",
      "display_name": "Python 3"
    }
  },
  "cells": [
    {
      "cell_type": "code",
      "metadata": {
        "id": "O1pgJ5IWzC49",
        "colab_type": "code",
        "colab": {}
      },
      "source": [
        "from google.colab import drive\n",
        "drive.mount('/content/drive')"
      ],
      "execution_count": 0,
      "outputs": []
    },
    {
      "cell_type": "code",
      "metadata": {
        "id": "OHwgN3X4PtuC",
        "colab_type": "code",
        "outputId": "186abd83-0368-4c17-9610-978bf94b1d76",
        "colab": {
          "base_uri": "https://localhost:8080/",
          "height": 33
        }
      },
      "source": [
        "cd drive/My\\ Drive/Humana"
      ],
      "execution_count": 2,
      "outputs": [
        {
          "output_type": "stream",
          "text": [
            "/content/drive/My Drive/Humana\n"
          ],
          "name": "stdout"
        }
      ]
    },
    {
      "cell_type": "code",
      "metadata": {
        "id": "udvrkrCozMAV",
        "colab_type": "code",
        "colab": {}
      },
      "source": [
        "import pandas as pd\n",
        "import numpy as np\n",
        "import matplotlib.pyplot as plt\n",
        "%matplotlib inline"
      ],
      "execution_count": 0,
      "outputs": []
    },
    {
      "cell_type": "code",
      "metadata": {
        "id": "SnHMs-CBzNuo",
        "colab_type": "code",
        "outputId": "d9e3404e-b682-4611-a659-ab69fd69c261",
        "colab": {
          "base_uri": "https://localhost:8080/",
          "height": 70
        }
      },
      "source": [
        "data = pd.read_csv('HMAHCC_COMP.csv')"
      ],
      "execution_count": 4,
      "outputs": [
        {
          "output_type": "stream",
          "text": [
            "/usr/local/lib/python3.6/dist-packages/IPython/core/interactiveshell.py:2718: DtypeWarning: Columns (8) have mixed types. Specify dtype option on import or set low_memory=False.\n",
            "  interactivity=interactivity, compiler=compiler, result=result)\n"
          ],
          "name": "stderr"
        }
      ]
    },
    {
      "cell_type": "code",
      "metadata": {
        "id": "ws6zgZP35BlX",
        "colab_type": "code",
        "colab": {}
      },
      "source": [
        "data_reversal = data[data.event_descr.isin(['RX Claim - Paid','RX Claim - Rejected'])]"
      ],
      "execution_count": 0,
      "outputs": []
    },
    {
      "cell_type": "code",
      "metadata": {
        "id": "ZNavkWYG5Vqr",
        "colab_type": "code",
        "colab": {}
      },
      "source": [
        "data_reversal[data_reversal.id.isin(['ID10013863216','ID10166893764','ID10234639565'])].to_csv('test.csv',index=False)"
      ],
      "execution_count": 0,
      "outputs": []
    },
    {
      "cell_type": "code",
      "metadata": {
        "id": "kBAM-QaT5oDm",
        "colab_type": "code",
        "colab": {}
      },
      "source": [
        "test_data = data_reversal[data_reversal.id.isin(['ID10013863216','ID10166893764','ID10234639565'])]"
      ],
      "execution_count": 0,
      "outputs": []
    },
    {
      "cell_type": "code",
      "metadata": {
        "id": "NJISKsNo5rG-",
        "colab_type": "code",
        "colab": {}
      },
      "source": [
        "test_data[(test_data.event_attr1=='REVERSAL')|(~test_data.MME.isnull())].to_csv('test.csv')"
      ],
      "execution_count": 0,
      "outputs": []
    },
    {
      "cell_type": "code",
      "metadata": {
        "id": "rJ9Wp6s99fpJ",
        "colab_type": "code",
        "outputId": "90103696-02b2-4f18-a4b5-95c0610f0c4a",
        "colab": {
          "base_uri": "https://localhost:8080/",
          "height": 150
        }
      },
      "source": [
        "data.event_attr1.unique()"
      ],
      "execution_count": 0,
      "outputs": [
        {
          "output_type": "execute_result",
          "data": {
            "text/plain": [
              "array(['RX Claim - Paid', 'RX Claim - Rejected', 'Fully Paid Claim',\n",
              "       'RX Claim - New Drug', 'Inbound Call by Mbr',\n",
              "       'Inbound Call by Prov', 'Surgery',\n",
              "       'RX Claim - First Time Mail Order', 'New provider',\n",
              "       'Inbound Call by Other', 'New diagnosis - CAD',\n",
              "       'New diagnosis - CPD', 'New diagnosis - CHF',\n",
              "       'New diagnosis - Hypertension', 'New diagnosis - Top 5',\n",
              "       'New diagnosis - Diabetes'], dtype=object)"
            ]
          },
          "metadata": {
            "tags": []
          },
          "execution_count": 6
        }
      ]
    },
    {
      "cell_type": "code",
      "metadata": {
        "id": "VPDWLeeBNzQF",
        "colab_type": "code",
        "colab": {}
      },
      "source": [
        "abc = data[data.event_descr.isin(['Inbound Call by Mbr','Inbound Call by Other','Inbound Call by Prov'])]"
      ],
      "execution_count": 0,
      "outputs": []
    },
    {
      "cell_type": "code",
      "metadata": {
        "id": "qP2mR_nvOoit",
        "colab_type": "code",
        "colab": {}
      },
      "source": [
        "abc.event_attr1.value_counts().to_csv('call category.csv')"
      ],
      "execution_count": 0,
      "outputs": []
    },
    {
      "cell_type": "code",
      "metadata": {
        "id": "WZcslLamPH5O",
        "colab_type": "code",
        "outputId": "42f89605-9a86-4eae-e45e-0e580c3985b0",
        "colab": {
          "base_uri": "https://localhost:8080/",
          "height": 33
        }
      },
      "source": [
        "cd drive/My\\ Drive/Humana"
      ],
      "execution_count": 0,
      "outputs": [
        {
          "output_type": "stream",
          "text": [
            "HMAHCC_COMP.csv  HMAHCC_HOLDOUT.csv\n"
          ],
          "name": "stdout"
        }
      ]
    },
    {
      "cell_type": "code",
      "metadata": {
        "id": "rpW0qacgPVSZ",
        "colab_type": "code",
        "outputId": "c4abf282-5def-4496-fb73-9959cdddefa2",
        "colab": {
          "base_uri": "https://localhost:8080/",
          "height": 33
        }
      },
      "source": [
        "ls"
      ],
      "execution_count": 0,
      "outputs": [
        {
          "output_type": "stream",
          "text": [
            "HMAHCC_COMP.csv  HMAHCC_HOLDOUT.csv\n"
          ],
          "name": "stdout"
        }
      ]
    },
    {
      "cell_type": "code",
      "metadata": {
        "id": "prXtKrSNPiGj",
        "colab_type": "code",
        "outputId": "48a3093d-de6f-405a-9145-8fcbf6f94982",
        "colab": {
          "base_uri": "https://localhost:8080/",
          "height": 70
        }
      },
      "source": [
        "abc.event_attr3.value_counts().to_csv('disposition.csv')"
      ],
      "execution_count": 0,
      "outputs": [
        {
          "output_type": "stream",
          "text": [
            "/usr/local/lib/python3.6/dist-packages/ipykernel_launcher.py:1: FutureWarning: The signature of `Series.to_csv` was aligned to that of `DataFrame.to_csv`, and argument 'header' will change its default value from False to True: please pass an explicit value to suppress this warning.\n",
            "  \"\"\"Entry point for launching an IPython kernel.\n"
          ],
          "name": "stderr"
        }
      ]
    },
    {
      "cell_type": "code",
      "metadata": {
        "id": "IALyrjcrQvyA",
        "colab_type": "code",
        "colab": {}
      },
      "source": [
        "data.event_attr1[data.event_descr.isin(['New diagnosis - Top 5'])].value_counts()"
      ],
      "execution_count": 0,
      "outputs": []
    },
    {
      "cell_type": "code",
      "metadata": {
        "id": "MneJogE2ThO2",
        "colab_type": "code",
        "outputId": "bb1f6d8c-a0b9-4bc3-e503-0fccb0209c03",
        "colab": {
          "base_uri": "https://localhost:8080/",
          "height": 70
        }
      },
      "source": [
        "abc.event_attr1.value_counts().to_csv('evnt_3.csv')"
      ],
      "execution_count": 0,
      "outputs": [
        {
          "output_type": "stream",
          "text": [
            "/usr/local/lib/python3.6/dist-packages/ipykernel_launcher.py:1: FutureWarning: The signature of `Series.to_csv` was aligned to that of `DataFrame.to_csv`, and argument 'header' will change its default value from False to True: please pass an explicit value to suppress this warning.\n",
            "  \"\"\"Entry point for launching an IPython kernel.\n"
          ],
          "name": "stderr"
        }
      ]
    },
    {
      "cell_type": "code",
      "metadata": {
        "id": "G6_3D65Bmxf-",
        "colab_type": "code",
        "outputId": "7e7db14b-f13f-4fe9-e9fd-a29ce5a1606d",
        "colab": {
          "base_uri": "https://localhost:8080/",
          "height": 150
        }
      },
      "source": [
        "data.event_descr.unique()"
      ],
      "execution_count": 0,
      "outputs": [
        {
          "output_type": "execute_result",
          "data": {
            "text/plain": [
              "array(['RX Claim - Paid', 'RX Claim - Rejected', 'Fully Paid Claim',\n",
              "       'RX Claim - New Drug', 'Inbound Call by Mbr',\n",
              "       'Inbound Call by Prov', 'Surgery',\n",
              "       'RX Claim - First Time Mail Order', 'New provider',\n",
              "       'Inbound Call by Other', 'New diagnosis - CAD',\n",
              "       'New diagnosis - CPD', 'New diagnosis - CHF',\n",
              "       'New diagnosis - Hypertension', 'New diagnosis - Top 5',\n",
              "       'New diagnosis - Diabetes'], dtype=object)"
            ]
          },
          "metadata": {
            "tags": []
          },
          "execution_count": 17
        }
      ]
    },
    {
      "cell_type": "code",
      "metadata": {
        "id": "FvHPsm6OpP_h",
        "colab_type": "code",
        "colab": {}
      },
      "source": [
        "bab = data[data.event_descr.isin(['New diagnosis - CAD',\n",
        "       'New diagnosis - CPD', 'New diagnosis - CHF',\n",
        "       'New diagnosis - Hypertension', 'New diagnosis - Top 5',\n",
        "       'New diagnosis - Diabetes','Surgery','Fully Paid Claim'])]"
      ],
      "execution_count": 0,
      "outputs": []
    },
    {
      "cell_type": "code",
      "metadata": {
        "id": "khIlIb7UpxYa",
        "colab_type": "code",
        "colab": {}
      },
      "source": [
        "dia_pain = bab[['id','event_attr1']][bab.event_attr1.str.contains('OPIOID|PAIN').fillna(False)].groupby('id').count()"
      ],
      "execution_count": 0,
      "outputs": []
    },
    {
      "cell_type": "code",
      "metadata": {
        "id": "awDaot3nuMlC",
        "colab_type": "code",
        "colab": {}
      },
      "source": [
        "dia_pain.reset_index(inplace=True)\n",
        "dia_pain.to_csv('dia_pain.csv',index=False)"
      ],
      "execution_count": 0,
      "outputs": []
    },
    {
      "cell_type": "code",
      "metadata": {
        "id": "vIyMa6plza42",
        "colab_type": "code",
        "colab": {}
      },
      "source": [
        "bab.event_attr3 = pd.to_numeric(bab.event_attr4,errors='coerce')\n",
        "bab.event_attr5 = pd.to_numeric(bab.event_attr5,errors='coerce')"
      ],
      "execution_count": 0,
      "outputs": []
    },
    {
      "cell_type": "code",
      "metadata": {
        "id": "hDtnniTh-mlZ",
        "colab_type": "code",
        "colab": {}
      },
      "source": [
        ""
      ],
      "execution_count": 0,
      "outputs": []
    },
    {
      "cell_type": "code",
      "metadata": {
        "id": "dnzBRBXLvzW5",
        "colab_type": "code",
        "colab": {}
      },
      "source": [
        "bab['Pay_ratio'] = bab.event_attr5/bab.event_attr3"
      ],
      "execution_count": 0,
      "outputs": []
    },
    {
      "cell_type": "code",
      "metadata": {
        "id": "JJDw4OWbxORR",
        "colab_type": "code",
        "colab": {}
      },
      "source": [
        "bab.Pay_ratio.replace([np.inf,-np.inf],np.nan,inplace=True)"
      ],
      "execution_count": 0,
      "outputs": []
    },
    {
      "cell_type": "code",
      "metadata": {
        "id": "ZNefWIRh--lJ",
        "colab_type": "code",
        "colab": {}
      },
      "source": [
        "pay_subest = bab[['Pay_ratio','id']]"
      ],
      "execution_count": 0,
      "outputs": []
    },
    {
      "cell_type": "code",
      "metadata": {
        "id": "BCokIvYO_QzF",
        "colab_type": "code",
        "colab": {}
      },
      "source": [
        "pay_subest.dropna(inplace=True)"
      ],
      "execution_count": 0,
      "outputs": []
    },
    {
      "cell_type": "code",
      "metadata": {
        "id": "LwkX8uCS_97Q",
        "colab_type": "code",
        "colab": {}
      },
      "source": [
        "dia_pay_ratio = pay_subest.groupby('id').mean()"
      ],
      "execution_count": 0,
      "outputs": []
    },
    {
      "cell_type": "code",
      "metadata": {
        "id": "2bh_iSwJx4VQ",
        "colab_type": "code",
        "colab": {}
      },
      "source": [
        "dia_pay_ratio.reset_index(inplace=True)"
      ],
      "execution_count": 0,
      "outputs": []
    },
    {
      "cell_type": "code",
      "metadata": {
        "id": "omBSqurCypQZ",
        "colab_type": "code",
        "colab": {}
      },
      "source": [
        "dia_pay_ratio.to_csv('dia_pay_ratio.csv',index=False)"
      ],
      "execution_count": 0,
      "outputs": []
    },
    {
      "cell_type": "code",
      "metadata": {
        "id": "LLlhJvyy-dv-",
        "colab_type": "code",
        "colab": {}
      },
      "source": [
        "claim_paid = data[data.event_descr.isin(['RX Claim - Paid'])]"
      ],
      "execution_count": 0,
      "outputs": []
    },
    {
      "cell_type": "code",
      "metadata": {
        "id": "QHwpmpAOBQCq",
        "colab_type": "code",
        "outputId": "325aad00-3e5a-4985-eebc-f238364e7145",
        "colab": {
          "base_uri": "https://localhost:8080/",
          "height": 137
        }
      },
      "source": [
        "claim_paid.event_attr3 = pd.to_numeric(claim_paid.event_attr4,errors='coerce')\n",
        "claim_paid.event_attr9 = pd.to_numeric(claim_paid.event_attr9,errors='coerce')"
      ],
      "execution_count": 6,
      "outputs": [
        {
          "output_type": "stream",
          "text": [
            "/usr/local/lib/python3.6/dist-packages/pandas/core/generic.py:5096: SettingWithCopyWarning: \n",
            "A value is trying to be set on a copy of a slice from a DataFrame.\n",
            "Try using .loc[row_indexer,col_indexer] = value instead\n",
            "\n",
            "See the caveats in the documentation: http://pandas.pydata.org/pandas-docs/stable/indexing.html#indexing-view-versus-copy\n",
            "  self[name] = value\n"
          ],
          "name": "stderr"
        }
      ]
    },
    {
      "cell_type": "code",
      "metadata": {
        "id": "aNl_cVVpBaX4",
        "colab_type": "code",
        "outputId": "23de845e-7f63-4958-cfe1-b83817f71aaf",
        "colab": {
          "base_uri": "https://localhost:8080/",
          "height": 137
        }
      },
      "source": [
        "claim_paid['Pay_ratio'] = claim_paid.event_attr9/claim_paid.event_attr3"
      ],
      "execution_count": 7,
      "outputs": [
        {
          "output_type": "stream",
          "text": [
            "/usr/local/lib/python3.6/dist-packages/ipykernel_launcher.py:1: SettingWithCopyWarning: \n",
            "A value is trying to be set on a copy of a slice from a DataFrame.\n",
            "Try using .loc[row_indexer,col_indexer] = value instead\n",
            "\n",
            "See the caveats in the documentation: http://pandas.pydata.org/pandas-docs/stable/indexing.html#indexing-view-versus-copy\n",
            "  \"\"\"Entry point for launching an IPython kernel.\n"
          ],
          "name": "stderr"
        }
      ]
    },
    {
      "cell_type": "code",
      "metadata": {
        "id": "njaEfzuTBilB",
        "colab_type": "code",
        "outputId": "758b7a42-b4c6-4b24-f4b1-f36e0032b34a",
        "colab": {
          "base_uri": "https://localhost:8080/",
          "height": 120
        }
      },
      "source": [
        "claim_paid.Pay_ratio.replace([np.inf,-np.inf],np.nan,inplace=True)"
      ],
      "execution_count": 8,
      "outputs": [
        {
          "output_type": "stream",
          "text": [
            "/usr/local/lib/python3.6/dist-packages/pandas/core/generic.py:6586: SettingWithCopyWarning: \n",
            "A value is trying to be set on a copy of a slice from a DataFrame\n",
            "\n",
            "See the caveats in the documentation: http://pandas.pydata.org/pandas-docs/stable/indexing.html#indexing-view-versus-copy\n",
            "  self._update_inplace(new_data)\n"
          ],
          "name": "stderr"
        }
      ]
    },
    {
      "cell_type": "code",
      "metadata": {
        "id": "vfgZ7jIzBpvj",
        "colab_type": "code",
        "outputId": "b8e57c57-461e-4a12-99c2-1155eedb3696",
        "colab": {
          "base_uri": "https://localhost:8080/",
          "height": 120
        }
      },
      "source": [
        "pay_subest = claim_paid[['Pay_ratio','id']]\n",
        "pay_subest.dropna(inplace=True)\n",
        "claim_pay_ratio = pay_subest.groupby('id').mean()\n",
        "claim_pay_ratio.reset_index(inplace=True)\n",
        "claim_pay_ratio.to_csv('claim_pay_ratio.csv',index=False)"
      ],
      "execution_count": 9,
      "outputs": [
        {
          "output_type": "stream",
          "text": [
            "/usr/local/lib/python3.6/dist-packages/ipykernel_launcher.py:2: SettingWithCopyWarning: \n",
            "A value is trying to be set on a copy of a slice from a DataFrame\n",
            "\n",
            "See the caveats in the documentation: http://pandas.pydata.org/pandas-docs/stable/indexing.html#indexing-view-versus-copy\n",
            "  \n"
          ],
          "name": "stderr"
        }
      ]
    },
    {
      "cell_type": "code",
      "metadata": {
        "id": "6AI_82a0CN8f",
        "colab_type": "code",
        "colab": {
          "base_uri": "https://localhost:8080/",
          "height": 321
        },
        "outputId": "3a518da2-4161-47d4-c51b-6a2bd91f0387"
      },
      "source": [
        "rejected_paid = data[data.event_descr.isin(['RX Claim - Rejected'])]\n",
        "rejected_paid.event_attr3 = pd.to_numeric(rejected_paid.event_attr4,errors='coerce')\n",
        "rejected_paid.event_attr9 = pd.to_numeric(rejected_paid.event_attr9,errors='coerce')\n",
        "rejected_paid['Pay_ratio'] = rejected_paid.event_attr9/rejected_paid.event_attr3\n",
        "rejected_paid.Pay_ratio.replace([np.inf,-np.inf],np.nan,inplace=True)"
      ],
      "execution_count": 10,
      "outputs": [
        {
          "output_type": "stream",
          "text": [
            "/usr/local/lib/python3.6/dist-packages/pandas/core/generic.py:5096: SettingWithCopyWarning: \n",
            "A value is trying to be set on a copy of a slice from a DataFrame.\n",
            "Try using .loc[row_indexer,col_indexer] = value instead\n",
            "\n",
            "See the caveats in the documentation: http://pandas.pydata.org/pandas-docs/stable/indexing.html#indexing-view-versus-copy\n",
            "  self[name] = value\n",
            "/usr/local/lib/python3.6/dist-packages/ipykernel_launcher.py:4: SettingWithCopyWarning: \n",
            "A value is trying to be set on a copy of a slice from a DataFrame.\n",
            "Try using .loc[row_indexer,col_indexer] = value instead\n",
            "\n",
            "See the caveats in the documentation: http://pandas.pydata.org/pandas-docs/stable/indexing.html#indexing-view-versus-copy\n",
            "  after removing the cwd from sys.path.\n",
            "/usr/local/lib/python3.6/dist-packages/pandas/core/generic.py:6586: SettingWithCopyWarning: \n",
            "A value is trying to be set on a copy of a slice from a DataFrame\n",
            "\n",
            "See the caveats in the documentation: http://pandas.pydata.org/pandas-docs/stable/indexing.html#indexing-view-versus-copy\n",
            "  self._update_inplace(new_data)\n"
          ],
          "name": "stderr"
        }
      ]
    },
    {
      "cell_type": "code",
      "metadata": {
        "id": "_yJUo3nlEc0a",
        "colab_type": "code",
        "outputId": "ccf1e2aa-c6f6-4720-f480-9126f8fc406b",
        "colab": {
          "base_uri": "https://localhost:8080/",
          "height": 120
        }
      },
      "source": [
        "pay_subest = rejected_paid[['Pay_ratio','id']]\n",
        "pay_subest.dropna(inplace=True)\n",
        "rejected_pay_ratio = pay_subest.groupby('id').mean()\n",
        "rejected_pay_ratio.reset_index(inplace=True)\n",
        "rejected_pay_ratio.to_csv('rejected_pay_ratio.csv',index=False)"
      ],
      "execution_count": 11,
      "outputs": [
        {
          "output_type": "stream",
          "text": [
            "/usr/local/lib/python3.6/dist-packages/ipykernel_launcher.py:2: SettingWithCopyWarning: \n",
            "A value is trying to be set on a copy of a slice from a DataFrame\n",
            "\n",
            "See the caveats in the documentation: http://pandas.pydata.org/pandas-docs/stable/indexing.html#indexing-view-versus-copy\n",
            "  \n"
          ],
          "name": "stderr"
        }
      ]
    },
    {
      "cell_type": "code",
      "metadata": {
        "id": "d-k0t3b7E8Gy",
        "colab_type": "code",
        "colab": {
          "base_uri": "https://localhost:8080/",
          "height": 150
        },
        "outputId": "28f54bd9-7b48-4ea7-f45c-7d5b724a9974"
      },
      "source": [
        "data.event_descr.unique()"
      ],
      "execution_count": 12,
      "outputs": [
        {
          "output_type": "execute_result",
          "data": {
            "text/plain": [
              "array(['RX Claim - Paid', 'RX Claim - Rejected', 'Fully Paid Claim',\n",
              "       'RX Claim - New Drug', 'Inbound Call by Mbr',\n",
              "       'Inbound Call by Prov', 'Surgery',\n",
              "       'RX Claim - First Time Mail Order', 'New provider',\n",
              "       'Inbound Call by Other', 'New diagnosis - CAD',\n",
              "       'New diagnosis - CPD', 'New diagnosis - CHF',\n",
              "       'New diagnosis - Hypertension', 'New diagnosis - Top 5',\n",
              "       'New diagnosis - Diabetes'], dtype=object)"
            ]
          },
          "metadata": {
            "tags": []
          },
          "execution_count": 12
        }
      ]
    },
    {
      "cell_type": "code",
      "metadata": {
        "id": "5HY89BO0NhvW",
        "colab_type": "code",
        "colab": {
          "base_uri": "https://localhost:8080/",
          "height": 1000
        },
        "outputId": "c3322a26-db2c-4f47-9dc7-286de0c55ed3"
      },
      "source": [
        "data.event_attr1[data.event_descr.isin(['Inbound Call by Mbr'])].value_counts()"
      ],
      "execution_count": 17,
      "outputs": [
        {
          "output_type": "execute_result",
          "data": {
            "text/plain": [
              "RIGHTSOURCE CALL CENTER                       92856\n",
              "BENEFITS                                      18751\n",
              "OTC-RSRX                                      15317\n",
              "CLAIMS                                        13677\n",
              "PROVIDER                                      11664\n",
              "CLINICAL/WELLNESS GUIDANCE                    11055\n",
              "VOB                                           10803\n",
              "RX                                             5974\n",
              "REFILL REQUEST (CT & TM)                       5616\n",
              "RSMS PHARMACIST                                5406\n",
              "FULFILLMENT                                    5091\n",
              "VOB RX                                         4711\n",
              "DEMOGRAPHICS                                   4663\n",
              "RIGHTSOURCERX SPECIALTY                        4547\n",
              "OVER-THE-COUNTER (OTC)                         4374\n",
              "ELIGIBILITY                                    4143\n",
              "RX (RSO)                                       4106\n",
              "RSMS MEMBER REQUEST                            3809\n",
              "COMMUNICATION                                  3709\n",
              "CLAIMS (RSO)                                   3527\n",
              "ORDER STATE (CT & TM)                          3330\n",
              "AUTH/REFERRAL                                  2589\n",
              "BILLING DIRECT BILL                            2588\n",
              "BILLING                                        2547\n",
              "OVER 4 DAY AGED (CT & TM)                      2467\n",
              "AUTHORIZATIONS                                 2330\n",
              "PCP CHANGE                                     2301\n",
              "RIGHTSOURCE                                    2207\n",
              "ENROLLMENT                                     1972\n",
              "RSMS ORDER INQUIRY                             1876\n",
              "                                              ...  \n",
              "FULFILLMENT (CT & TM)                             1\n",
              "PCP                                               1\n",
              "PCD CHANGES                                       1\n",
              "SUPERVISOR                                        1\n",
              "OVERLAY                                           1\n",
              "RETRO PCP CHANGE                                  1\n",
              "EOB/EOR                                           1\n",
              "NEW RX TM                                         1\n",
              "COMPLAINT                                         1\n",
              "CORR ONLY - CLAIMS RX                             1\n",
              "WEB CALLS                                         1\n",
              "LEASED BUSINESS                                   1\n",
              "REWRITE                                           1\n",
              "SPAA                                              1\n",
              "INFORMATION RCVD-PROSTHO                          1\n",
              "MISSING PLAN-INCOMPLETE                           1\n",
              "CONTRACT                                          1\n",
              "HUMANA MAIL PRIOR AUTHORIZATION-COMMERCIAL        1\n",
              "INFORMATION RCVD-PERIO                            1\n",
              "QAA-ATTITUDE                                      1\n",
              "PLAN CHANGE                                       1\n",
              "CIT REFERRAL                                      1\n",
              "GO365 REPORTING                                   1\n",
              "PENDING INQUIRY                                   1\n",
              "MANUAL FAX SENT                                   1\n",
              "RXMENTOR                                          1\n",
              "HARD COPY                                         1\n",
              "BALANCE BILLING                                   1\n",
              "PRICER                                            1\n",
              "MEDICARE BILLING                                  1\n",
              "Name: event_attr1, Length: 342, dtype: int64"
            ]
          },
          "metadata": {
            "tags": []
          },
          "execution_count": 17
        }
      ]
    },
    {
      "cell_type": "code",
      "metadata": {
        "id": "qt6ekoq-OXui",
        "colab_type": "code",
        "colab": {}
      },
      "source": [
        ""
      ],
      "execution_count": 0,
      "outputs": []
    }
  ]
}