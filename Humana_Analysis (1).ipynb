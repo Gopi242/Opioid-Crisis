{
  "nbformat": 4,
  "nbformat_minor": 0,
  "metadata": {
    "colab": {
      "name": "Humana Analysis.ipynb",
      "provenance": [],
      "collapsed_sections": []
    },
    "kernelspec": {
      "name": "python3",
      "display_name": "Python 3"
    }
  },
  "cells": [
    {
      "cell_type": "code",
      "metadata": {
        "id": "GD_xCwfEqL5Z",
        "colab_type": "code",
        "outputId": "d55d1675-465e-49df-ae6a-743434b07f1f",
        "colab": {
          "base_uri": "https://localhost:8080/",
          "height": 120
        }
      },
      "source": [
        "from google.colab import drive\n",
        "drive.mount('/content/drive')"
      ],
      "execution_count": 0,
      "outputs": [
        {
          "output_type": "stream",
          "text": [
            "Go to this URL in a browser: https://accounts.google.com/o/oauth2/auth?client_id=947318989803-6bn6qk8qdgf4n4g3pfee6491hc0brc4i.apps.googleusercontent.com&redirect_uri=urn%3Aietf%3Awg%3Aoauth%3A2.0%3Aoob&scope=email%20https%3A%2F%2Fwww.googleapis.com%2Fauth%2Fdocs.test%20https%3A%2F%2Fwww.googleapis.com%2Fauth%2Fdrive%20https%3A%2F%2Fwww.googleapis.com%2Fauth%2Fdrive.photos.readonly%20https%3A%2F%2Fwww.googleapis.com%2Fauth%2Fpeopleapi.readonly&response_type=code\n",
            "\n",
            "Enter your authorization code:\n",
            "··········\n",
            "Mounted at /content/drive\n"
          ],
          "name": "stdout"
        }
      ]
    },
    {
      "cell_type": "code",
      "metadata": {
        "id": "ni15PNbQqU5o",
        "colab_type": "code",
        "colab": {}
      },
      "source": [
        "import pandas as pd\n",
        "import numpy as np\n",
        "import matplotlib.pyplot as plt\n",
        "%matplotlib inline"
      ],
      "execution_count": 0,
      "outputs": []
    },
    {
      "cell_type": "code",
      "metadata": {
        "id": "NHnZYBfbqY84",
        "colab_type": "code",
        "outputId": "9419ddd1-563b-47ae-fa68-2eb702fc455f",
        "colab": {
          "base_uri": "https://localhost:8080/",
          "height": 70
        }
      },
      "source": [
        "data = pd.read_csv('drive/My Drive/Humana/HMAHCC_COMP.csv')"
      ],
      "execution_count": 0,
      "outputs": [
        {
          "output_type": "stream",
          "text": [
            "/usr/local/lib/python3.6/dist-packages/IPython/core/interactiveshell.py:2718: DtypeWarning: Columns (8) have mixed types. Specify dtype option on import or set low_memory=False.\n",
            "  interactivity=interactivity, compiler=compiler, result=result)\n"
          ],
          "name": "stderr"
        }
      ]
    },
    {
      "cell_type": "code",
      "metadata": {
        "id": "58Y9A7y4qnLb",
        "colab_type": "code",
        "outputId": "b8e040f3-f572-4b24-85b6-5b8466887a76",
        "colab": {
          "base_uri": "https://localhost:8080/",
          "height": 33
        }
      },
      "source": [
        " data.id.nunique()"
      ],
      "execution_count": 0,
      "outputs": [
        {
          "output_type": "execute_result",
          "data": {
            "text/plain": [
              "14000"
            ]
          },
          "metadata": {
            "tags": []
          },
          "execution_count": 4
        }
      ]
    },
    {
      "cell_type": "code",
      "metadata": {
        "id": "nQjc8UTSt1rF",
        "colab_type": "code",
        "colab": {}
      },
      "source": [
        "data.info()"
      ],
      "execution_count": 0,
      "outputs": []
    },
    {
      "cell_type": "code",
      "metadata": {
        "id": "eTXqRzXipsS8",
        "colab_type": "code",
        "colab": {}
      },
      "source": [
        "data_me = data[(~data.MME.isnull())&(data.event_descr=='RX Claim - Paid')]"
      ],
      "execution_count": 0,
      "outputs": []
    },
    {
      "cell_type": "code",
      "metadata": {
        "id": "BJeVpSn1qDxZ",
        "colab_type": "code",
        "outputId": "80bdab96-b2bf-491e-ca3c-301f18de00a9",
        "colab": {
          "base_uri": "https://localhost:8080/",
          "height": 137
        }
      },
      "source": [
        "data_me['supply_count'] = pd.to_numeric(data_me.PAY_DAY_SUPPLY_CNT,errors='coerce')"
      ],
      "execution_count": 0,
      "outputs": [
        {
          "output_type": "stream",
          "text": [
            "/usr/local/lib/python3.6/dist-packages/ipykernel_launcher.py:1: SettingWithCopyWarning: \n",
            "A value is trying to be set on a copy of a slice from a DataFrame.\n",
            "Try using .loc[row_indexer,col_indexer] = value instead\n",
            "\n",
            "See the caveats in the documentation: http://pandas.pydata.org/pandas-docs/stable/indexing.html#indexing-view-versus-copy\n",
            "  \"\"\"Entry point for launching an IPython kernel.\n"
          ],
          "name": "stderr"
        }
      ]
    },
    {
      "cell_type": "code",
      "metadata": {
        "id": "Y01HrG3EPZ57",
        "colab_type": "code",
        "outputId": "d30cef6b-3b3e-4ec8-aae7-6369411d6366",
        "colab": {
          "base_uri": "https://localhost:8080/",
          "height": 137
        }
      },
      "source": [
        "data_me['id_new'] = data_me.id"
      ],
      "execution_count": 0,
      "outputs": [
        {
          "output_type": "stream",
          "text": [
            "/usr/local/lib/python3.6/dist-packages/ipykernel_launcher.py:1: SettingWithCopyWarning: \n",
            "A value is trying to be set on a copy of a slice from a DataFrame.\n",
            "Try using .loc[row_indexer,col_indexer] = value instead\n",
            "\n",
            "See the caveats in the documentation: http://pandas.pydata.org/pandas-docs/stable/indexing.html#indexing-view-versus-copy\n",
            "  \"\"\"Entry point for launching an IPython kernel.\n"
          ],
          "name": "stderr"
        }
      ]
    },
    {
      "cell_type": "code",
      "metadata": {
        "id": "IJVRuAutsaLW",
        "colab_type": "code",
        "outputId": "2d8e5fbe-f62b-4860-87da-c181e08ba0f1",
        "colab": {
          "base_uri": "https://localhost:8080/",
          "height": 137
        }
      },
      "source": [
        "data_me['idx']=np.arange(data_me.shape[0])"
      ],
      "execution_count": 0,
      "outputs": [
        {
          "output_type": "stream",
          "text": [
            "/usr/local/lib/python3.6/dist-packages/ipykernel_launcher.py:1: SettingWithCopyWarning: \n",
            "A value is trying to be set on a copy of a slice from a DataFrame.\n",
            "Try using .loc[row_indexer,col_indexer] = value instead\n",
            "\n",
            "See the caveats in the documentation: http://pandas.pydata.org/pandas-docs/stable/indexing.html#indexing-view-versus-copy\n",
            "  \"\"\"Entry point for launching an IPython kernel.\n"
          ],
          "name": "stderr"
        }
      ]
    },
    {
      "cell_type": "code",
      "metadata": {
        "id": "x0aiGkA5tvsN",
        "colab_type": "code",
        "colab": {}
      },
      "source": [
        "data_me.set_index(['idx','id'],inplace=True)"
      ],
      "execution_count": 0,
      "outputs": []
    },
    {
      "cell_type": "code",
      "metadata": {
        "id": "og2Ob51cO6PL",
        "colab_type": "code",
        "colab": {}
      },
      "source": [
        "data_me.index[data_me.id_new=='ID1002482139'].to_list()"
      ],
      "execution_count": 0,
      "outputs": []
    },
    {
      "cell_type": "code",
      "metadata": {
        "id": "agdk3-s4rB3r",
        "colab_type": "code",
        "colab": {}
      },
      "source": [
        "shifted = data_me.groupby(level=\"id\").shift(-1)\n",
        "# bring the next row data into current row\n"
      ],
      "execution_count": 0,
      "outputs": []
    },
    {
      "cell_type": "code",
      "metadata": {
        "id": "mFtLN3bG3p71",
        "colab_type": "code",
        "colab": {}
      },
      "source": [
        "shifted_lead = data_me.groupby(level=\"id\").shift(1)\n",
        "# brings previous row data into current row"
      ],
      "execution_count": 0,
      "outputs": []
    },
    {
      "cell_type": "code",
      "metadata": {
        "id": "GUE5KJ6DvSO9",
        "colab_type": "code",
        "colab": {}
      },
      "source": [
        "data_new = data_me[['id_new','Days','PAY_DAY_SUPPLY_CNT', 'PAYABLE_QTY', 'MME','supply_count']].join(shifted[['supply_count','Days']], rsuffix = \"_lag\")"
      ],
      "execution_count": 0,
      "outputs": []
    },
    {
      "cell_type": "code",
      "metadata": {
        "id": "0xdUNSrDvGUm",
        "colab_type": "code",
        "colab": {}
      },
      "source": [
        "data_new = data_new.join(shifted_lead[['supply_count','Days']], rsuffix = \"_lead\")"
      ],
      "execution_count": 0,
      "outputs": []
    },
    {
      "cell_type": "code",
      "metadata": {
        "id": "RH96Ytciwzk6",
        "colab_type": "code",
        "colab": {}
      },
      "source": [
        "data_new.Days = pd.to_numeric(data_new.Days,errors='coerce')"
      ],
      "execution_count": 0,
      "outputs": []
    },
    {
      "cell_type": "code",
      "metadata": {
        "id": "f1obOhBD2g0_",
        "colab_type": "code",
        "colab": {}
      },
      "source": [
        "data_new.Days_lag = pd.to_numeric(data_new.Days_lag,errors = 'coerce')"
      ],
      "execution_count": 0,
      "outputs": []
    },
    {
      "cell_type": "code",
      "metadata": {
        "id": "LIXByG5p4CVn",
        "colab_type": "code",
        "colab": {}
      },
      "source": [
        "data_new.Days_lead = pd.to_numeric(data_new.Days_lead,errors='coerce')"
      ],
      "execution_count": 0,
      "outputs": []
    },
    {
      "cell_type": "code",
      "metadata": {
        "id": "swa9Ecy-2RnU",
        "colab_type": "code",
        "colab": {}
      },
      "source": [
        "data_new['diff_lag'] = data_new.Days_lag- data_new.Days"
      ],
      "execution_count": 0,
      "outputs": []
    },
    {
      "cell_type": "code",
      "metadata": {
        "id": "mDXXyjLB4SX2",
        "colab_type": "code",
        "colab": {}
      },
      "source": [
        "data_new['diff_lead'] = data_new.Days - data_new.Days_lead"
      ],
      "execution_count": 0,
      "outputs": []
    },
    {
      "cell_type": "code",
      "metadata": {
        "id": "iz1mjrlkBvki",
        "colab_type": "code",
        "outputId": "1faccced-a874-4a45-e89e-5f8f9326614a",
        "colab": {
          "base_uri": "https://localhost:8080/",
          "height": 246
        }
      },
      "source": [
        "data_new.head()"
      ],
      "execution_count": 0,
      "outputs": [
        {
          "output_type": "execute_result",
          "data": {
            "text/html": [
              "<div>\n",
              "<style scoped>\n",
              "    .dataframe tbody tr th:only-of-type {\n",
              "        vertical-align: middle;\n",
              "    }\n",
              "\n",
              "    .dataframe tbody tr th {\n",
              "        vertical-align: top;\n",
              "    }\n",
              "\n",
              "    .dataframe thead th {\n",
              "        text-align: right;\n",
              "    }\n",
              "</style>\n",
              "<table border=\"1\" class=\"dataframe\">\n",
              "  <thead>\n",
              "    <tr style=\"text-align: right;\">\n",
              "      <th></th>\n",
              "      <th></th>\n",
              "      <th>id_new</th>\n",
              "      <th>Days</th>\n",
              "      <th>PAY_DAY_SUPPLY_CNT</th>\n",
              "      <th>PAYABLE_QTY</th>\n",
              "      <th>MME</th>\n",
              "      <th>supply_count</th>\n",
              "      <th>supply_count_lag</th>\n",
              "      <th>Days_lag</th>\n",
              "      <th>supply_count_lead</th>\n",
              "      <th>Days_lead</th>\n",
              "      <th>diff_lag</th>\n",
              "      <th>diff_lead</th>\n",
              "    </tr>\n",
              "    <tr>\n",
              "      <th>idx</th>\n",
              "      <th>id</th>\n",
              "      <th></th>\n",
              "      <th></th>\n",
              "      <th></th>\n",
              "      <th></th>\n",
              "      <th></th>\n",
              "      <th></th>\n",
              "      <th></th>\n",
              "      <th></th>\n",
              "      <th></th>\n",
              "      <th></th>\n",
              "      <th></th>\n",
              "      <th></th>\n",
              "    </tr>\n",
              "  </thead>\n",
              "  <tbody>\n",
              "    <tr>\n",
              "      <th>0</th>\n",
              "      <th>ID10010854159</th>\n",
              "      <td>ID10010854159</td>\n",
              "      <td>0</td>\n",
              "      <td>5.0</td>\n",
              "      <td>15.0</td>\n",
              "      <td>15.0</td>\n",
              "      <td>5.0</td>\n",
              "      <td>5.0</td>\n",
              "      <td>706.0</td>\n",
              "      <td>NaN</td>\n",
              "      <td>NaN</td>\n",
              "      <td>706.0</td>\n",
              "      <td>NaN</td>\n",
              "    </tr>\n",
              "    <tr>\n",
              "      <th>1</th>\n",
              "      <th>ID10010854159</th>\n",
              "      <td>ID10010854159</td>\n",
              "      <td>706</td>\n",
              "      <td>5.0</td>\n",
              "      <td>14.0</td>\n",
              "      <td>12.6</td>\n",
              "      <td>5.0</td>\n",
              "      <td>NaN</td>\n",
              "      <td>NaN</td>\n",
              "      <td>5.0</td>\n",
              "      <td>0.0</td>\n",
              "      <td>NaN</td>\n",
              "      <td>706.0</td>\n",
              "    </tr>\n",
              "    <tr>\n",
              "      <th>2</th>\n",
              "      <th>ID10013863216</th>\n",
              "      <td>ID10013863216</td>\n",
              "      <td>0</td>\n",
              "      <td>90.0</td>\n",
              "      <td>180.0</td>\n",
              "      <td>10.0</td>\n",
              "      <td>90.0</td>\n",
              "      <td>90.0</td>\n",
              "      <td>94.0</td>\n",
              "      <td>NaN</td>\n",
              "      <td>NaN</td>\n",
              "      <td>94.0</td>\n",
              "      <td>NaN</td>\n",
              "    </tr>\n",
              "    <tr>\n",
              "      <th>3</th>\n",
              "      <th>ID10013863216</th>\n",
              "      <td>ID10013863216</td>\n",
              "      <td>94</td>\n",
              "      <td>90.0</td>\n",
              "      <td>180.0</td>\n",
              "      <td>10.0</td>\n",
              "      <td>90.0</td>\n",
              "      <td>90.0</td>\n",
              "      <td>253.0</td>\n",
              "      <td>90.0</td>\n",
              "      <td>0.0</td>\n",
              "      <td>159.0</td>\n",
              "      <td>94.0</td>\n",
              "    </tr>\n",
              "    <tr>\n",
              "      <th>4</th>\n",
              "      <th>ID10013863216</th>\n",
              "      <td>ID10013863216</td>\n",
              "      <td>253</td>\n",
              "      <td>90.0</td>\n",
              "      <td>180.0</td>\n",
              "      <td>10.0</td>\n",
              "      <td>90.0</td>\n",
              "      <td>90.0</td>\n",
              "      <td>342.0</td>\n",
              "      <td>90.0</td>\n",
              "      <td>94.0</td>\n",
              "      <td>89.0</td>\n",
              "      <td>159.0</td>\n",
              "    </tr>\n",
              "  </tbody>\n",
              "</table>\n",
              "</div>"
            ],
            "text/plain": [
              "                          id_new  Days  ...  diff_lag  diff_lead\n",
              "idx id                                  ...                     \n",
              "0   ID10010854159  ID10010854159     0  ...     706.0        NaN\n",
              "1   ID10010854159  ID10010854159   706  ...       NaN      706.0\n",
              "2   ID10013863216  ID10013863216     0  ...      94.0        NaN\n",
              "3   ID10013863216  ID10013863216    94  ...     159.0       94.0\n",
              "4   ID10013863216  ID10013863216   253  ...      89.0      159.0\n",
              "\n",
              "[5 rows x 12 columns]"
            ]
          },
          "metadata": {
            "tags": []
          },
          "execution_count": 19
        }
      ]
    },
    {
      "cell_type": "code",
      "metadata": {
        "id": "Hr7yMo718ENK",
        "colab_type": "code",
        "outputId": "c3c59655-342c-4263-b69a-e68b8eff16ef",
        "colab": {
          "base_uri": "https://localhost:8080/",
          "height": 1000
        }
      },
      "source": [
        "data_new[['diff_lead','supply_count_lead']].min(axis=1)"
      ],
      "execution_count": 0,
      "outputs": [
        {
          "output_type": "execute_result",
          "data": {
            "text/plain": [
              "idx     id           \n",
              "0       ID10010854159     NaN\n",
              "1       ID10010854159     5.0\n",
              "2       ID10013863216     NaN\n",
              "3       ID10013863216    90.0\n",
              "4       ID10013863216    90.0\n",
              "5       ID10013863216    89.0\n",
              "6       ID10013863216    90.0\n",
              "7       ID10013863216    90.0\n",
              "8       ID10013863216    30.0\n",
              "9       ID10013863216    27.0\n",
              "10      ID10013863216    30.0\n",
              "11      ID10013863216    28.0\n",
              "12      ID10013863216    30.0\n",
              "13      ID10013863216    30.0\n",
              "14      ID10024447278     NaN\n",
              "15      ID10024447278     5.0\n",
              "16      ID10024447278     5.0\n",
              "17      ID10024447278     5.0\n",
              "18      ID10024447278     3.0\n",
              "19      ID10024447278    28.0\n",
              "20      ID10024447278    30.0\n",
              "21      ID10024447278    28.0\n",
              "22      ID10024447278    28.0\n",
              "23      ID10024447278    28.0\n",
              "24      ID10024447278    29.0\n",
              "25      ID10024447278    30.0\n",
              "26      ID10024447278    30.0\n",
              "27      ID10024447278    30.0\n",
              "28      ID10024447278    30.0\n",
              "29      ID10024447278    28.0\n",
              "                         ... \n",
              "244492  ID99994197161    25.0\n",
              "244493  ID99994197161    23.0\n",
              "244494  ID99994197161    30.0\n",
              "244495  ID99994197161    23.0\n",
              "244496  ID99994197161    23.0\n",
              "244497  ID99994197161    30.0\n",
              "244498  ID99994197161    30.0\n",
              "244499  ID99994197161    28.0\n",
              "244500  ID99994197161    27.0\n",
              "244501  ID99994197161    30.0\n",
              "244502  ID99994197161    26.0\n",
              "244503  ID99994197161    30.0\n",
              "244504  ID99994197161    23.0\n",
              "244505  ID99994197161    27.0\n",
              "244506  ID99994197161    27.0\n",
              "244507  ID99994197161    27.0\n",
              "244508  ID99994197161    27.0\n",
              "244509  ID99994197161    30.0\n",
              "244510  ID99994197161    28.0\n",
              "244511  ID99994197161    28.0\n",
              "244512  ID99994197161    28.0\n",
              "244513  ID99994197161    28.0\n",
              "244514  ID99994197161    28.0\n",
              "244515  ID99994197161    30.0\n",
              "244516  ID99994197161    27.0\n",
              "244517  ID99994197161    27.0\n",
              "244518  ID99994197161    28.0\n",
              "244519  ID99994197161    27.0\n",
              "244520  ID99994197161    30.0\n",
              "244521  ID99994197161    27.0\n",
              "Length: 244522, dtype: float64"
            ]
          },
          "metadata": {
            "tags": []
          },
          "execution_count": 20
        }
      ]
    },
    {
      "cell_type": "code",
      "metadata": {
        "id": "gOaByuem2zre",
        "colab_type": "code",
        "colab": {}
      },
      "source": [
        "data_new['naive'] = 0\n",
        "data_new.loc[((data_new.diff_lead.isnull())|((data_new.diff_lead - 90)>data_new.supply_count_lead))&(data_new.Days>=0),'naive'] = 1"
      ],
      "execution_count": 0,
      "outputs": []
    },
    {
      "cell_type": "code",
      "metadata": {
        "id": "G5U0jSInwDQt",
        "colab_type": "code",
        "colab": {}
      },
      "source": [
        "data_new.reset_index(inplace=True)"
      ],
      "execution_count": 0,
      "outputs": []
    },
    {
      "cell_type": "code",
      "metadata": {
        "id": "RveKmxmJtrI2",
        "colab_type": "code",
        "outputId": "934aab0d-df0c-4217-fdd2-177870bc653f",
        "colab": {
          "base_uri": "https://localhost:8080/",
          "height": 216
        }
      },
      "source": [
        "data_new.head()"
      ],
      "execution_count": 0,
      "outputs": [
        {
          "output_type": "execute_result",
          "data": {
            "text/html": [
              "<div>\n",
              "<style scoped>\n",
              "    .dataframe tbody tr th:only-of-type {\n",
              "        vertical-align: middle;\n",
              "    }\n",
              "\n",
              "    .dataframe tbody tr th {\n",
              "        vertical-align: top;\n",
              "    }\n",
              "\n",
              "    .dataframe thead th {\n",
              "        text-align: right;\n",
              "    }\n",
              "</style>\n",
              "<table border=\"1\" class=\"dataframe\">\n",
              "  <thead>\n",
              "    <tr style=\"text-align: right;\">\n",
              "      <th></th>\n",
              "      <th>idx</th>\n",
              "      <th>id</th>\n",
              "      <th>id_new</th>\n",
              "      <th>Days</th>\n",
              "      <th>PAY_DAY_SUPPLY_CNT</th>\n",
              "      <th>PAYABLE_QTY</th>\n",
              "      <th>MME</th>\n",
              "      <th>supply_count</th>\n",
              "      <th>supply_count_lag</th>\n",
              "      <th>Days_lag</th>\n",
              "      <th>supply_count_lead</th>\n",
              "      <th>Days_lead</th>\n",
              "      <th>diff_lag</th>\n",
              "      <th>diff_lead</th>\n",
              "      <th>naive</th>\n",
              "    </tr>\n",
              "  </thead>\n",
              "  <tbody>\n",
              "    <tr>\n",
              "      <th>0</th>\n",
              "      <td>0</td>\n",
              "      <td>ID10010854159</td>\n",
              "      <td>ID10010854159</td>\n",
              "      <td>0</td>\n",
              "      <td>5.0</td>\n",
              "      <td>15.0</td>\n",
              "      <td>15.0</td>\n",
              "      <td>5.0</td>\n",
              "      <td>5.0</td>\n",
              "      <td>706.0</td>\n",
              "      <td>NaN</td>\n",
              "      <td>NaN</td>\n",
              "      <td>706.0</td>\n",
              "      <td>NaN</td>\n",
              "      <td>1</td>\n",
              "    </tr>\n",
              "    <tr>\n",
              "      <th>1</th>\n",
              "      <td>1</td>\n",
              "      <td>ID10010854159</td>\n",
              "      <td>ID10010854159</td>\n",
              "      <td>706</td>\n",
              "      <td>5.0</td>\n",
              "      <td>14.0</td>\n",
              "      <td>12.6</td>\n",
              "      <td>5.0</td>\n",
              "      <td>NaN</td>\n",
              "      <td>NaN</td>\n",
              "      <td>5.0</td>\n",
              "      <td>0.0</td>\n",
              "      <td>NaN</td>\n",
              "      <td>706.0</td>\n",
              "      <td>1</td>\n",
              "    </tr>\n",
              "    <tr>\n",
              "      <th>2</th>\n",
              "      <td>2</td>\n",
              "      <td>ID10013863216</td>\n",
              "      <td>ID10013863216</td>\n",
              "      <td>0</td>\n",
              "      <td>90.0</td>\n",
              "      <td>180.0</td>\n",
              "      <td>10.0</td>\n",
              "      <td>90.0</td>\n",
              "      <td>90.0</td>\n",
              "      <td>94.0</td>\n",
              "      <td>NaN</td>\n",
              "      <td>NaN</td>\n",
              "      <td>94.0</td>\n",
              "      <td>NaN</td>\n",
              "      <td>1</td>\n",
              "    </tr>\n",
              "    <tr>\n",
              "      <th>3</th>\n",
              "      <td>3</td>\n",
              "      <td>ID10013863216</td>\n",
              "      <td>ID10013863216</td>\n",
              "      <td>94</td>\n",
              "      <td>90.0</td>\n",
              "      <td>180.0</td>\n",
              "      <td>10.0</td>\n",
              "      <td>90.0</td>\n",
              "      <td>90.0</td>\n",
              "      <td>253.0</td>\n",
              "      <td>90.0</td>\n",
              "      <td>0.0</td>\n",
              "      <td>159.0</td>\n",
              "      <td>94.0</td>\n",
              "      <td>0</td>\n",
              "    </tr>\n",
              "    <tr>\n",
              "      <th>4</th>\n",
              "      <td>4</td>\n",
              "      <td>ID10013863216</td>\n",
              "      <td>ID10013863216</td>\n",
              "      <td>253</td>\n",
              "      <td>90.0</td>\n",
              "      <td>180.0</td>\n",
              "      <td>10.0</td>\n",
              "      <td>90.0</td>\n",
              "      <td>90.0</td>\n",
              "      <td>342.0</td>\n",
              "      <td>90.0</td>\n",
              "      <td>94.0</td>\n",
              "      <td>89.0</td>\n",
              "      <td>159.0</td>\n",
              "      <td>0</td>\n",
              "    </tr>\n",
              "  </tbody>\n",
              "</table>\n",
              "</div>"
            ],
            "text/plain": [
              "   idx             id         id_new  ...  diff_lag  diff_lead  naive\n",
              "0    0  ID10010854159  ID10010854159  ...     706.0        NaN      1\n",
              "1    1  ID10010854159  ID10010854159  ...       NaN      706.0      1\n",
              "2    2  ID10013863216  ID10013863216  ...      94.0        NaN      1\n",
              "3    3  ID10013863216  ID10013863216  ...     159.0       94.0      0\n",
              "4    4  ID10013863216  ID10013863216  ...      89.0      159.0      0\n",
              "\n",
              "[5 rows x 15 columns]"
            ]
          },
          "metadata": {
            "tags": []
          },
          "execution_count": 23
        }
      ]
    },
    {
      "cell_type": "code",
      "metadata": {
        "id": "MiGISPsoR1O4",
        "colab_type": "code",
        "outputId": "af09e618-f411-4b0e-dec6-b4acdbeab0aa",
        "colab": {
          "base_uri": "https://localhost:8080/",
          "height": 70
        }
      },
      "source": [
        "target_df = pd.DataFrame(columns=['ID','Target'])\n",
        "index=0\n",
        "c=0\n",
        "for i in data_new.id_new.unique():\n",
        "  # iterating for each unique user id\n",
        "  c+=1\n",
        "  sub_set = data_new[data_new.id_new==i]\n",
        "  sub_set.reset_index(inplace=True)\n",
        "  for k in sub_set.index[sub_set.naive==1].to_list():\n",
        "    # iterating for each opioid naive case for the respective user id\n",
        "    ind = k\n",
        "    sub_set_2 = sub_set[ind:]\n",
        "    sub_set_2.reset_index(inplace=True)\n",
        "    sub_set_2.Days_new = sub_set_2.Days-sub_set_2.Days[0]\n",
        "    days=0\n",
        "    supply_days = 0\n",
        "\n",
        "    if len(sub_set_2)>=1:\n",
        "      for j in range(sub_set_2.shape[0]):\n",
        "        # calculating the no of days they have taken opiod medicine after each incident for each individual\n",
        "        days+=sub_set_2.Days_new[j]\n",
        "        supply_days = min(sub_set_2.Days_new[j],supply_days)\n",
        "        supply_days+= sub_set_2.supply_count[j]\n",
        "        if sub_set_2.Days_new[j]+sub_set_2.supply_count[j]>=162:\n",
        "          remain_days = np.max([180-sub_set_2.Days[j],0])\n",
        "          add_days = np.min([remain_days,sub_set_2.supply_count[j]])\n",
        "          supply_days = supply_days-sub_set_2.supply_count[j]+add_days          \n",
        "          if supply_days>=162:\n",
        "            # if total supply >= 162 within 180 days then classify as one\n",
        "            # print(supply_days)\n",
        "            target_df = target_df.append(pd.DataFrame([(i,1)],columns=['ID','Target']))\n",
        "          else:\n",
        "            target_df = target_df.append(pd.DataFrame([(i,0)],columns=['ID','Target']))\n",
        "          index+=1\n",
        "          break\n",
        "        # elif sub_set_2.Days_new[j]+sub_set_2.supply_count[j]>=162:\n",
        "        # else:\n",
        "        #   target_df = target_df.append(pd.DataFrame([(i,0)],columns=['ID','Target']))\n",
        "          \n",
        "\n",
        "    # else:\n",
        "    #   # print((sub_set_2.supply_count >= 162))\n",
        "    #   if (sub_set_2.supply_count >= 162).all():\n",
        "    #     target_df.append(pd.DataFrame([i,1]))\n",
        "    #   else:\n",
        "    #     target_df.append(pd.DataFrame([i,1]))\n",
        "    #   index+=1\n",
        "    #     # print(sub_set_2.Days[j]-100)"
      ],
      "execution_count": 0,
      "outputs": [
        {
          "output_type": "stream",
          "text": [
            "/usr/local/lib/python3.6/dist-packages/ipykernel_launcher.py:14: UserWarning: Pandas doesn't allow columns to be created via a new attribute name - see https://pandas.pydata.org/pandas-docs/stable/indexing.html#attribute-access\n",
            "  \n"
          ],
          "name": "stderr"
        }
      ]
    },
    {
      "cell_type": "code",
      "metadata": {
        "id": "xWu900A0MjA7",
        "colab_type": "code",
        "outputId": "bba226b5-5e35-4de7-c221-40d9b2e99672",
        "colab": {
          "base_uri": "https://localhost:8080/",
          "height": 33
        }
      },
      "source": [
        "type(min(sub_set_2.Days[1],supply_days))"
      ],
      "execution_count": 0,
      "outputs": [
        {
          "output_type": "execute_result",
          "data": {
            "text/plain": [
              "numpy.float64"
            ]
          },
          "metadata": {
            "tags": []
          },
          "execution_count": 32
        }
      ]
    },
    {
      "cell_type": "code",
      "metadata": {
        "id": "Lj3tYvyA5C-e",
        "colab_type": "code",
        "outputId": "27dc15e8-1729-4a8a-f415-25a63af3da88",
        "colab": {
          "base_uri": "https://localhost:8080/",
          "height": 33
        }
      },
      "source": [
        "data_new[data_new.naive==1].shape"
      ],
      "execution_count": 0,
      "outputs": [
        {
          "output_type": "execute_result",
          "data": {
            "text/plain": [
              "(26810, 13)"
            ]
          },
          "metadata": {
            "tags": []
          },
          "execution_count": 86
        }
      ]
    },
    {
      "cell_type": "code",
      "metadata": {
        "id": "gCuJ_kJW7TH7",
        "colab_type": "code",
        "colab": {}
      },
      "source": [
        "target_var = target_df.groupby('ID').max()\n",
        "target_var.reset_index(inplace=True)"
      ],
      "execution_count": 0,
      "outputs": []
    },
    {
      "cell_type": "code",
      "metadata": {
        "id": "GRnycDp1S_-H",
        "colab_type": "code",
        "colab": {}
      },
      "source": [
        "cd drive/My\\ Drive/Humana"
      ],
      "execution_count": 0,
      "outputs": []
    },
    {
      "cell_type": "code",
      "metadata": {
        "id": "li6WGgCmTNtY",
        "colab_type": "code",
        "outputId": "76f175fe-c759-47f3-84ea-97d0f87f0132",
        "colab": {
          "base_uri": "https://localhost:8080/",
          "height": 50
        }
      },
      "source": [
        "ls"
      ],
      "execution_count": 0,
      "outputs": [
        {
          "output_type": "stream",
          "text": [
            "'call category.csv'      disposition.csv   HMAHCC_HOLDOUT.csv\n",
            "'call category.gsheet'   HMAHCC_COMP.csv   target_var1_final.csv\n"
          ],
          "name": "stdout"
        }
      ]
    },
    {
      "cell_type": "code",
      "metadata": {
        "id": "0bqSTR6zy6qV",
        "colab_type": "code",
        "colab": {}
      },
      "source": [
        "target_var.to_csv('target_var1_final.csv')"
      ],
      "execution_count": 0,
      "outputs": []
    },
    {
      "cell_type": "code",
      "metadata": {
        "id": "D5aG0dcp8GwQ",
        "colab_type": "code",
        "outputId": "c09d0907-e197-4379-a685-f74bb745277b",
        "colab": {
          "base_uri": "https://localhost:8080/",
          "height": 67
        }
      },
      "source": [
        "target_df.Target.value_counts()"
      ],
      "execution_count": 0,
      "outputs": [
        {
          "output_type": "execute_result",
          "data": {
            "text/plain": [
              "0    11092\n",
              "1     4481\n",
              "Name: Target, dtype: int64"
            ]
          },
          "metadata": {
            "tags": []
          },
          "execution_count": 34
        }
      ]
    },
    {
      "cell_type": "code",
      "metadata": {
        "id": "4HQvQp0cTAe9",
        "colab_type": "code",
        "outputId": "e5dc0f4f-fc1c-48f1-c032-950d4f6d31d5",
        "colab": {
          "base_uri": "https://localhost:8080/",
          "height": 1000
        }
      },
      "source": [
        "target_var[target_var.Target==1]['ID']"
      ],
      "execution_count": 0,
      "outputs": [
        {
          "output_type": "execute_result",
          "data": {
            "text/plain": [
              "1        ID10013863216\n",
              "2        ID10024447278\n",
              "3         ID1002482139\n",
              "8        ID10112532931\n",
              "10       ID10125698107\n",
              "14       ID10166893764\n",
              "15       ID10167700196\n",
              "20       ID10203805803\n",
              "21       ID10212367358\n",
              "22       ID10230809175\n",
              "23       ID10234639565\n",
              "25       ID10249588270\n",
              "26       ID10256258775\n",
              "30       ID10309381787\n",
              "34       ID10362163889\n",
              "35       ID10363405901\n",
              "36       ID10366078610\n",
              "37       ID10395772108\n",
              "41       ID10409931331\n",
              "46       ID10444101509\n",
              "56       ID10551807382\n",
              "59       ID10572785190\n",
              "61         ID105838524\n",
              "63       ID10597480000\n",
              "64       ID10607745549\n",
              "68       ID10665075020\n",
              "69       ID10680847713\n",
              "70       ID10681401244\n",
              "71       ID10682483068\n",
              "72        ID1070574904\n",
              "             ...      \n",
              "10303    ID99272306821\n",
              "10304    ID99307164642\n",
              "10306    ID99323519412\n",
              "10309    ID99352641962\n",
              "10310    ID99357693828\n",
              "10311     ID9936081436\n",
              "10312    ID99367966828\n",
              "10314    ID99399800505\n",
              "10316    ID99421949451\n",
              "10319    ID99455307516\n",
              "10322    ID99491178290\n",
              "10326    ID99527660663\n",
              "10330    ID99567686579\n",
              "10333    ID99583740532\n",
              "10335    ID99595153331\n",
              "10340    ID99618940241\n",
              "10342     ID9963964768\n",
              "10344    ID99650034261\n",
              "10352    ID99762069480\n",
              "10355    ID99787820456\n",
              "10356    ID99819880491\n",
              "10358    ID99827357428\n",
              "10360    ID99853738490\n",
              "10363    ID99893580330\n",
              "10366    ID99915109341\n",
              "10367    ID99915340915\n",
              "10371    ID99975648894\n",
              "10372    ID99985278397\n",
              "10373    ID99987501651\n",
              "10374    ID99994197161\n",
              "Name: ID, Length: 4481, dtype: object"
            ]
          },
          "metadata": {
            "tags": []
          },
          "execution_count": 44
        }
      ]
    },
    {
      "cell_type": "code",
      "metadata": {
        "id": "_QvNzwHfSU8E",
        "colab_type": "code",
        "colab": {}
      },
      "source": [
        "count_table = data[['id','event_descr']].groupby(['id','event_descr']).size().reset_index(name='count')"
      ],
      "execution_count": 0,
      "outputs": []
    },
    {
      "cell_type": "code",
      "metadata": {
        "id": "tWnABhwxT_Jt",
        "colab_type": "code",
        "colab": {}
      },
      "source": [
        "df = count_table.set_index(['id','event_descr'])['count'].unstack()"
      ],
      "execution_count": 0,
      "outputs": []
    },
    {
      "cell_type": "code",
      "metadata": {
        "id": "zyVeGWWAVhet",
        "colab_type": "code",
        "colab": {}
      },
      "source": [
        "df.reset_index(inplace=True)"
      ],
      "execution_count": 0,
      "outputs": []
    },
    {
      "cell_type": "code",
      "metadata": {
        "id": "seaYYsNpZwyI",
        "colab_type": "code",
        "colab": {}
      },
      "source": [
        "df.fillna(0,inplace=True)"
      ],
      "execution_count": 0,
      "outputs": []
    },
    {
      "cell_type": "code",
      "metadata": {
        "id": "FZ-hVACuUnKA",
        "colab_type": "code",
        "colab": {}
      },
      "source": [
        "df.head()"
      ],
      "execution_count": 0,
      "outputs": []
    },
    {
      "cell_type": "code",
      "metadata": {
        "id": "ZUEQ42AFUz3D",
        "colab_type": "code",
        "colab": {}
      },
      "source": [
        "df.to_csv('independent_var.csv',index=False)"
      ],
      "execution_count": 0,
      "outputs": []
    },
    {
      "cell_type": "code",
      "metadata": {
        "id": "E9KHpJ1EVzD0",
        "colab_type": "code",
        "colab": {}
      },
      "source": [
        "count_table.to_csv('count_table.csv')"
      ],
      "execution_count": 0,
      "outputs": []
    },
    {
      "cell_type": "code",
      "metadata": {
        "id": "kw-L-xfDToZ2",
        "colab_type": "code",
        "colab": {}
      },
      "source": [
        "data_diag = data.loc[data.event_descr.isin(['New diagnosis - CAD',\n",
        "       'New diagnosis - CPD', 'New diagnosis - CHF','Surgery',\n",
        "       'New diagnosis - Hypertension', 'New diagnosis - Top 5',\n",
        "       'New diagnosis - Diabetes']),:]"
      ],
      "execution_count": 0,
      "outputs": []
    },
    {
      "cell_type": "code",
      "metadata": {
        "id": "WRoAXThNbr5O",
        "colab_type": "code",
        "outputId": "6431deb2-6459-4d67-8715-22b1c56ca799",
        "colab": {
          "base_uri": "https://localhost:8080/",
          "height": 117
        }
      },
      "source": [
        "data_diag.event_attr1.unique()"
      ],
      "execution_count": 0,
      "outputs": [
        {
          "output_type": "execute_result",
          "data": {
            "text/plain": [
              "array(['OTHER AND COMBINED FORMS OF SENILE CATARACT',\n",
              "       'DIZZINESS AND GIDDINESS',\n",
              "       'OTHER SPECIFIED NONINFLAMMATORY DISORDERS OF VAGINA', ...,\n",
              "       'POSTCONCUSSIONAL SYNDROME', 'OTHER SPECIFIED DISORDERS OF MUSCLE',\n",
              "       'BURN OF SECOND DEGREE OF SHOULDER AND UPPER LIMB, EXCEPT WRIST AND HAND, UNSPECIFIED SITE, SUBSEQUENT ENCOUNTER'],\n",
              "      dtype=object)"
            ]
          },
          "metadata": {
            "tags": []
          },
          "execution_count": 90
        }
      ]
    },
    {
      "cell_type": "code",
      "metadata": {
        "id": "ZtNVo5p7e7vc",
        "colab_type": "code",
        "colab": {}
      },
      "source": [
        "data_drug = data[(data.MME.isnull())&(data.event_descr=='RX Claim - Paid')]"
      ],
      "execution_count": 0,
      "outputs": []
    },
    {
      "cell_type": "code",
      "metadata": {
        "id": "czj6g2t2fVwc",
        "colab_type": "code",
        "outputId": "e2468b3b-f84f-4112-fead-e64faf2ab6ef",
        "colab": {
          "base_uri": "https://localhost:8080/",
          "height": 350
        }
      },
      "source": [
        "data_drug.head()"
      ],
      "execution_count": 0,
      "outputs": [
        {
          "output_type": "execute_result",
          "data": {
            "text/html": [
              "<div>\n",
              "<style scoped>\n",
              "    .dataframe tbody tr th:only-of-type {\n",
              "        vertical-align: middle;\n",
              "    }\n",
              "\n",
              "    .dataframe tbody tr th {\n",
              "        vertical-align: top;\n",
              "    }\n",
              "\n",
              "    .dataframe thead th {\n",
              "        text-align: right;\n",
              "    }\n",
              "</style>\n",
              "<table border=\"1\" class=\"dataframe\">\n",
              "  <thead>\n",
              "    <tr style=\"text-align: right;\">\n",
              "      <th></th>\n",
              "      <th>id</th>\n",
              "      <th>event_descr</th>\n",
              "      <th>event_attr1</th>\n",
              "      <th>event_attr2</th>\n",
              "      <th>event_attr3</th>\n",
              "      <th>event_attr4</th>\n",
              "      <th>event_attr5</th>\n",
              "      <th>event_attr6</th>\n",
              "      <th>event_attr7</th>\n",
              "      <th>event_attr8</th>\n",
              "      <th>event_attr9</th>\n",
              "      <th>event_attr10</th>\n",
              "      <th>Days</th>\n",
              "      <th>PAY_DAY_SUPPLY_CNT</th>\n",
              "      <th>PAYABLE_QTY</th>\n",
              "      <th>MME</th>\n",
              "      <th>DRUG_TYPE</th>\n",
              "      <th>Specialty</th>\n",
              "      <th>Specialty2</th>\n",
              "      <th>Specialty3</th>\n",
              "    </tr>\n",
              "  </thead>\n",
              "  <tbody>\n",
              "    <tr>\n",
              "      <th>0</th>\n",
              "      <td>ID10010854159</td>\n",
              "      <td>RX Claim - Paid</td>\n",
              "      <td>BIGUANIDES</td>\n",
              "      <td>NaN</td>\n",
              "      <td>5</td>\n",
              "      <td>2.35</td>\n",
              "      <td>METFORMIN HCL</td>\n",
              "      <td>DIABETES</td>\n",
              "      <td>NaN</td>\n",
              "      <td>METFORMIN HCL TAB 500 MG</td>\n",
              "      <td>2.65</td>\n",
              "      <td>27250050.0</td>\n",
              "      <td>-664</td>\n",
              "      <td>NaN</td>\n",
              "      <td>NaN</td>\n",
              "      <td>NaN</td>\n",
              "      <td>NaN</td>\n",
              "      <td>NaN</td>\n",
              "      <td>NaN</td>\n",
              "      <td>NaN</td>\n",
              "    </tr>\n",
              "    <tr>\n",
              "      <th>1</th>\n",
              "      <td>ID10010854159</td>\n",
              "      <td>RX Claim - Paid</td>\n",
              "      <td>BETA BLOCKERS CARDIO-SELECTIVE</td>\n",
              "      <td>NaN</td>\n",
              "      <td>5</td>\n",
              "      <td>2.35</td>\n",
              "      <td>ATENOLOL</td>\n",
              "      <td>CARDIO</td>\n",
              "      <td>NaN</td>\n",
              "      <td>ATENOLOL TAB 25 MG</td>\n",
              "      <td>2.65</td>\n",
              "      <td>33200020.0</td>\n",
              "      <td>-659</td>\n",
              "      <td>NaN</td>\n",
              "      <td>NaN</td>\n",
              "      <td>NaN</td>\n",
              "      <td>NaN</td>\n",
              "      <td>NaN</td>\n",
              "      <td>NaN</td>\n",
              "      <td>NaN</td>\n",
              "    </tr>\n",
              "    <tr>\n",
              "      <th>3</th>\n",
              "      <td>ID10010854159</td>\n",
              "      <td>RX Claim - Paid</td>\n",
              "      <td>FLUOROQUINOLONES</td>\n",
              "      <td>NaN</td>\n",
              "      <td>5.8</td>\n",
              "      <td>3.15</td>\n",
              "      <td>CIPROFLOXACIN HCL</td>\n",
              "      <td>INF-ANTIBIOTICS</td>\n",
              "      <td>NaN</td>\n",
              "      <td>CIPROFLOXACIN HCL TAB 500 MG (BASE EQUIV)</td>\n",
              "      <td>2.65</td>\n",
              "      <td>5000020.0</td>\n",
              "      <td>-646</td>\n",
              "      <td>NaN</td>\n",
              "      <td>NaN</td>\n",
              "      <td>NaN</td>\n",
              "      <td>NaN</td>\n",
              "      <td>NaN</td>\n",
              "      <td>NaN</td>\n",
              "      <td>NaN</td>\n",
              "    </tr>\n",
              "    <tr>\n",
              "      <th>4</th>\n",
              "      <td>ID10010854159</td>\n",
              "      <td>RX Claim - Paid</td>\n",
              "      <td>HMG COA REDUCTASE INHIBITORS</td>\n",
              "      <td>NaN</td>\n",
              "      <td>13</td>\n",
              "      <td>10.35</td>\n",
              "      <td>PRAVASTATIN SODIUM</td>\n",
              "      <td>CARDIO</td>\n",
              "      <td>NaN</td>\n",
              "      <td>PRAVASTATIN SODIUM TAB 20 MG</td>\n",
              "      <td>2.65</td>\n",
              "      <td>39400065.0</td>\n",
              "      <td>-646</td>\n",
              "      <td>NaN</td>\n",
              "      <td>NaN</td>\n",
              "      <td>NaN</td>\n",
              "      <td>NaN</td>\n",
              "      <td>NaN</td>\n",
              "      <td>NaN</td>\n",
              "      <td>NaN</td>\n",
              "    </tr>\n",
              "    <tr>\n",
              "      <th>5</th>\n",
              "      <td>ID10010854159</td>\n",
              "      <td>RX Claim - Paid</td>\n",
              "      <td>THIAZIDES AND THIAZIDE-LIKE DIURETICS</td>\n",
              "      <td>NaN</td>\n",
              "      <td>5</td>\n",
              "      <td>2.35</td>\n",
              "      <td>HYDROCHLOROTHIAZIDE</td>\n",
              "      <td>CARDIO</td>\n",
              "      <td>NaN</td>\n",
              "      <td>HYDROCHLOROTHIAZIDE TAB 25 MG</td>\n",
              "      <td>2.65</td>\n",
              "      <td>37600040.0</td>\n",
              "      <td>-644</td>\n",
              "      <td>NaN</td>\n",
              "      <td>NaN</td>\n",
              "      <td>NaN</td>\n",
              "      <td>NaN</td>\n",
              "      <td>NaN</td>\n",
              "      <td>NaN</td>\n",
              "      <td>NaN</td>\n",
              "    </tr>\n",
              "  </tbody>\n",
              "</table>\n",
              "</div>"
            ],
            "text/plain": [
              "              id      event_descr  ... Specialty2 Specialty3\n",
              "0  ID10010854159  RX Claim - Paid  ...        NaN        NaN\n",
              "1  ID10010854159  RX Claim - Paid  ...        NaN        NaN\n",
              "3  ID10010854159  RX Claim - Paid  ...        NaN        NaN\n",
              "4  ID10010854159  RX Claim - Paid  ...        NaN        NaN\n",
              "5  ID10010854159  RX Claim - Paid  ...        NaN        NaN\n",
              "\n",
              "[5 rows x 20 columns]"
            ]
          },
          "metadata": {
            "tags": []
          },
          "execution_count": 47
        }
      ]
    },
    {
      "cell_type": "code",
      "metadata": {
        "id": "ulLlBbehf8uT",
        "colab_type": "code",
        "colab": {}
      },
      "source": [
        "import sys\n",
        "np.set_printoptions(threshold=sys.maxsize)"
      ],
      "execution_count": 0,
      "outputs": []
    },
    {
      "cell_type": "code",
      "metadata": {
        "id": "HLD6yxA_fIND",
        "colab_type": "code",
        "outputId": "49d924bd-1814-496c-d8f6-1a0e1aaf0d4d",
        "colab": {
          "base_uri": "https://localhost:8080/",
          "height": 237
        }
      },
      "source": [
        "data_drug['pain'] = 0\n",
        "data_drug.loc[data_drug.event_attr6.isin(['PAIN']),'pain']=1"
      ],
      "execution_count": 0,
      "outputs": [
        {
          "output_type": "stream",
          "text": [
            "/usr/local/lib/python3.6/dist-packages/ipykernel_launcher.py:1: SettingWithCopyWarning: \n",
            "A value is trying to be set on a copy of a slice from a DataFrame.\n",
            "Try using .loc[row_indexer,col_indexer] = value instead\n",
            "\n",
            "See the caveats in the documentation: http://pandas.pydata.org/pandas-docs/stable/indexing.html#indexing-view-versus-copy\n",
            "  \"\"\"Entry point for launching an IPython kernel.\n",
            "/usr/local/lib/python3.6/dist-packages/pandas/core/indexing.py:543: SettingWithCopyWarning: \n",
            "A value is trying to be set on a copy of a slice from a DataFrame.\n",
            "Try using .loc[row_indexer,col_indexer] = value instead\n",
            "\n",
            "See the caveats in the documentation: http://pandas.pydata.org/pandas-docs/stable/indexing.html#indexing-view-versus-copy\n",
            "  self.obj[item] = s\n"
          ],
          "name": "stderr"
        }
      ]
    },
    {
      "cell_type": "code",
      "metadata": {
        "id": "yM2WGK5toenj",
        "colab_type": "code",
        "colab": {}
      },
      "source": [
        "pain_count = data_drug[['id','pain']].groupby(['id','pain']).size().reset_index(name='count').set_index(['id','pain'])['count'].unstack()"
      ],
      "execution_count": 0,
      "outputs": []
    },
    {
      "cell_type": "code",
      "metadata": {
        "id": "1fIx0pGHpZwa",
        "colab_type": "code",
        "colab": {}
      },
      "source": [
        "pain_count.reset_index(inplace=True)"
      ],
      "execution_count": 0,
      "outputs": []
    },
    {
      "cell_type": "code",
      "metadata": {
        "id": "cPEtJUhfp64B",
        "colab_type": "code",
        "colab": {}
      },
      "source": [
        "pain_count.fillna(0,inplace=True)\n",
        "# [2] = 'Pain'\n",
        "#  = ['id','Non_pain','pain']"
      ],
      "execution_count": 0,
      "outputs": []
    },
    {
      "cell_type": "code",
      "metadata": {
        "id": "CIG5az97pf6X",
        "colab_type": "code",
        "colab": {}
      },
      "source": [
        "pain_count.to_csv('pain_count.csv',index=False)"
      ],
      "execution_count": 0,
      "outputs": []
    },
    {
      "cell_type": "code",
      "metadata": {
        "id": "lBon1h_5qhPJ",
        "colab_type": "code",
        "colab": {}
      },
      "source": [
        "data_opiod = data_drug[data_drug.event_attr6.isin(['PAIN'])]"
      ],
      "execution_count": 0,
      "outputs": []
    },
    {
      "cell_type": "code",
      "metadata": {
        "id": "NqezxZp81Eo-",
        "colab_type": "code",
        "colab": {}
      },
      "source": [
        "data_opiod[data_opiod.event_attr1.str.contains('OPIOID')].head()"
      ],
      "execution_count": 0,
      "outputs": []
    },
    {
      "cell_type": "code",
      "metadata": {
        "id": "K_lfMSNErJlx",
        "colab_type": "code",
        "colab": {}
      },
      "source": [
        "data_opiod['OPIOID'] = 'Non Opioid'\n",
        "data_opiod.loc[data_opiod.event_attr1.str.contains('OPIOID'),'OPIOID'] = 'Opioid'"
      ],
      "execution_count": 0,
      "outputs": []
    },
    {
      "cell_type": "code",
      "metadata": {
        "id": "uGtG7EFguvu9",
        "colab_type": "code",
        "colab": {}
      },
      "source": [
        "opioid_count = data_opiod[['id','OPIOID']].groupby(['id','OPIOID']).size().reset_index(name='count').\\\n",
        "set_index(['id','OPIOID'])['count'].unstack()\n",
        "opioid_count.reset_index(inplace=True)\n",
        "opioid_count.fillna(0,inplace=True)\n",
        "opioid_count.to_csv('opioid_count.csv',index=False)"
      ],
      "execution_count": 0,
      "outputs": []
    },
    {
      "cell_type": "code",
      "metadata": {
        "id": "JHltaX421qrt",
        "colab_type": "code",
        "outputId": "37246538-37b5-4922-bdff-3492d7b3376c",
        "colab": {
          "base_uri": "https://localhost:8080/",
          "height": 33
        }
      },
      "source": [
        "data_me.Days.min()"
      ],
      "execution_count": 0,
      "outputs": [
        {
          "output_type": "execute_result",
          "data": {
            "text/plain": [
              "-1270"
            ]
          },
          "metadata": {
            "tags": []
          },
          "execution_count": 61
        }
      ]
    },
    {
      "cell_type": "code",
      "metadata": {
        "id": "NMEqsI_RvsSX",
        "colab_type": "code",
        "colab": {}
      },
      "source": [
        "# This is not required\n",
        "# data_drug['OPIOID'] = 'Non Opioid'\n",
        "# data_drug.loc[data_drug.event_attr1.str.contains('OPIOID').fillna(False),'OPIOID'] = 'Opioid'\n",
        "# opioid_count_drug = data_drug[['id','OPIOID']].groupby(['id','OPIOID']).size().reset_index(name='count').\\\n",
        "# set_index(['id','OPIOID'])['count'].unstack()\n",
        "# opioid_count_drug.reset_index(inplace=True)\n",
        "# opioid_count_drug.fillna(0,inplace=True)\n",
        "# opioid_count_drug.to_csv('opioid_count_drug.csv',index=False)"
      ],
      "execution_count": 0,
      "outputs": []
    },
    {
      "cell_type": "code",
      "metadata": {
        "id": "wQzDVi-RrKsq",
        "colab_type": "code",
        "outputId": "72fedf6a-7786-4221-c212-a211e27db0fd",
        "colab": {
          "base_uri": "https://localhost:8080/",
          "height": 286
        }
      },
      "source": [
        "for event_desc in data.event_descr.unique():\n",
        "  print(event_desc + ': ' + str(data.event_attr1[data.event_descr.isin([event_desc])].nunique()))"
      ],
      "execution_count": 0,
      "outputs": [
        {
          "output_type": "stream",
          "text": [
            "RX Claim - Paid: 437\n",
            "RX Claim - Rejected: 8\n",
            "Fully Paid Claim: 17500\n",
            "RX Claim - New Drug: 643\n",
            "Inbound Call by Mbr: 342\n",
            "Inbound Call by Prov: 107\n",
            "Surgery: 3514\n",
            "RX Claim - First Time Mail Order: 187\n",
            "New provider: 0\n",
            "Inbound Call by Other: 151\n",
            "New diagnosis - CAD: 744\n",
            "New diagnosis - CPD: 969\n",
            "New diagnosis - CHF: 600\n",
            "New diagnosis - Hypertension: 782\n",
            "New diagnosis - Top 5: 772\n",
            "New diagnosis - Diabetes: 672\n"
          ],
          "name": "stdout"
        }
      ]
    },
    {
      "cell_type": "code",
      "metadata": {
        "id": "RfkyF_jFxeZt",
        "colab_type": "code",
        "colab": {}
      },
      "source": [
        "holdout = pd.read_csv('drive/My Drive/Humana/HMAHCC_HOLDOUT.csv',dtype='unicode')"
      ],
      "execution_count": 0,
      "outputs": []
    },
    {
      "cell_type": "code",
      "metadata": {
        "id": "Lac-sNv2xoEa",
        "colab_type": "code",
        "outputId": "2cf342be-dd9c-43bc-d054-683c1be860cd",
        "colab": {
          "base_uri": "https://localhost:8080/",
          "height": 34
        }
      },
      "source": [
        "holdout.shape"
      ],
      "execution_count": 0,
      "outputs": [
        {
          "output_type": "execute_result",
          "data": {
            "text/plain": [
              "(1480394, 20)"
            ]
          },
          "metadata": {
            "tags": []
          },
          "execution_count": 25
        }
      ]
    },
    {
      "cell_type": "code",
      "metadata": {
        "id": "iRqvrVoox5nK",
        "colab_type": "code",
        "outputId": "2a3b1d34-1763-4b4b-861d-ddf56656ed0d",
        "colab": {
          "base_uri": "https://localhost:8080/",
          "height": 50
        }
      },
      "source": [
        "holdout.ID.unique()"
      ],
      "execution_count": 0,
      "outputs": [
        {
          "output_type": "execute_result",
          "data": {
            "text/plain": [
              "array(['ID98975196852', 'ID40721836565', 'ID99208242445', ...,\n",
              "       'ID98960792971', 'ID78706797900', 'ID10278406324'], dtype=object)"
            ]
          },
          "metadata": {
            "tags": []
          },
          "execution_count": 26
        }
      ]
    },
    {
      "cell_type": "code",
      "metadata": {
        "id": "5dAz8ondyAlV",
        "colab_type": "code",
        "colab": {}
      },
      "source": [
        "holdout[holdout.ID=='ID98975196852'].to_csv('holdout_sample.csv')"
      ],
      "execution_count": 0,
      "outputs": []
    },
    {
      "cell_type": "code",
      "metadata": {
        "id": "Y1t--t7Szfq8",
        "colab_type": "code",
        "outputId": "be7f6689-2f04-4a41-a5d2-1b145fb632d5",
        "colab": {
          "base_uri": "https://localhost:8080/",
          "height": 437
        }
      },
      "source": [
        "data.info()"
      ],
      "execution_count": 0,
      "outputs": [
        {
          "output_type": "stream",
          "text": [
            "<class 'pandas.core.frame.DataFrame'>\n",
            "RangeIndex: 6086969 entries, 0 to 6086968\n",
            "Data columns (total 20 columns):\n",
            "id                    object\n",
            "event_descr           object\n",
            "event_attr1           object\n",
            "event_attr2           object\n",
            "event_attr3           object\n",
            "event_attr4           object\n",
            "event_attr5           object\n",
            "event_attr6           object\n",
            "event_attr7           object\n",
            "event_attr8           object\n",
            "event_attr9           object\n",
            "event_attr10          object\n",
            "Days                  object\n",
            "PAY_DAY_SUPPLY_CNT    object\n",
            "PAYABLE_QTY           object\n",
            "MME                   object\n",
            "DRUG_TYPE             object\n",
            "Specialty             object\n",
            "Specialty2            object\n",
            "Specialty3            object\n",
            "dtypes: object(20)\n",
            "memory usage: 928.8+ MB\n"
          ],
          "name": "stdout"
        }
      ]
    },
    {
      "cell_type": "code",
      "metadata": {
        "id": "PwmZ7z2Y37JX",
        "colab_type": "code",
        "colab": {}
      },
      "source": [
        ""
      ],
      "execution_count": 0,
      "outputs": []
    },
    {
      "cell_type": "code",
      "metadata": {
        "id": "exz61yZxfCPG",
        "colab_type": "code",
        "colab": {}
      },
      "source": [
        ""
      ],
      "execution_count": 0,
      "outputs": []
    }
  ]
}